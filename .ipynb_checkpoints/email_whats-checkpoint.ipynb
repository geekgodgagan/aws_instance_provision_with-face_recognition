{
 "cells": [
  {
   "cell_type": "code",
   "execution_count": 8,
   "metadata": {},
   "outputs": [
    {
     "name": "stdout",
     "output_type": "stream",
     "text": [
      "21\n",
      "20\n",
      "In 79 seconds web.whatsapp.com will open and after 20 seconds message will be delivered\n"
     ]
    }
   ],
   "source": [
    "import smtplib\n",
    "#import sendgrid\n",
    "import os\n",
    "#from sendgrid.helpers.mail import Mail, Email, To, Content\n",
    "SUBJECT = \"ALERT\"\n",
    "s = smtplib.SMTP('smtp.gmail.com', 587)\n",
    "\n",
    "def sendmail(TEXT,email):\n",
    "#    print(\"sorry we cant process your candidature\")\n",
    "    s = smtplib.SMTP('smtp.gmail.com', 587)\n",
    "    s.starttls()\n",
    "    s.login(\"kumargagandeep61@gmail.com\", \"\")\n",
    "    message  = 'Subject: {}\\n\\n{}'.format(SUBJECT, TEXT)\n",
    "    s.sendmail(\"kumargagandeep61@gmail.com\", email, message)\n",
    "    s.quit()\n",
    "    \n",
    "sendmail(\"Hello Gagandeep Kumar ! Email successfully sent\",\"kumargagandeep61@gmail.com\")\n",
    "\n",
    "import time\n",
    "\n",
    "t = time.localtime()\n",
    "time_hr = time.strftime(\"%H\", t)\n",
    "time_min = time.strftime(\"%M\", t)\n",
    "print(time_hr)\n",
    "print(time_min)\n",
    "\n",
    "import pywhatkit as kit\n",
    "kit.sendwhatmsg(\"+91XXXXXXXXXX\", \"Hey Gagandeep Kumar ! Whatsapp Message successfully sent !\", int(time_hr), int(time_min)+2)\n"
   ]
  },
  {
   "cell_type": "code",
   "execution_count": null,
   "metadata": {},
   "outputs": [],
   "source": []
  },
  {
   "cell_type": "code",
   "execution_count": null,
   "metadata": {},
   "outputs": [],
   "source": []
  }
 ],
 "metadata": {
  "kernelspec": {
   "display_name": "Python 3",
   "language": "python",
   "name": "python3"
  },
  "language_info": {
   "codemirror_mode": {
    "name": "ipython",
    "version": 3
   },
   "file_extension": ".py",
   "mimetype": "text/x-python",
   "name": "python",
   "nbconvert_exporter": "python",
   "pygments_lexer": "ipython3",
   "version": "3.7.4"
  }
 },
 "nbformat": 4,
 "nbformat_minor": 4
}
