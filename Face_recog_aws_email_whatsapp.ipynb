{
 "cells": [
  {
   "cell_type": "markdown",
   "metadata": {},
   "source": [
    "# Face Recognition – TASK 06!\n",
    "# Task Description 📄\n",
    "\n",
    "## ❄️ Create a program that perform below mentioned task upon recognizing a particular face. \n",
    "\n",
    "## 📌 When it recognize your face then - \n",
    "### 👉 It send mail to your mail id by writing this is face of your_name. \n",
    "### 👉 Second it send whatsapp message to your friend, it can be anything. \n",
    "\n",
    "## 📌 When it recognize second  face, it can be your friend or family members face.\n",
    "### 👉 Create EC2 instance in the AWS using CLI. \n",
    "### 👉 Create 5 GB EBS volume and attach it to the instance. "
   ]
  },
  {
   "cell_type": "markdown",
   "metadata": {},
   "source": [
    "## Step 1 - Create Training Data"
   ]
  },
  {
   "cell_type": "code",
   "execution_count": null,
   "metadata": {},
   "outputs": [],
   "source": [
    "import cv2\n",
    "import numpy as np\n",
    "\n",
    "# Load HAAR face classifier\n",
    "face_classifier = cv2.CascadeClassifier('haarcascade_frontalface_default.xml')\n",
    "\n",
    "# Load functions\n",
    "def face_extractor(img):\n",
    "    # Function detects faces and returns the cropped face\n",
    "    # If no face detected, it returns the input image\n",
    "    \n",
    "#     gray = cv2.cvtColor(img,cv2.COLOR_BGR2GRAY)\n",
    "    faces = face_classifier.detectMultiScale(img, 1.3, 5)\n",
    "    \n",
    "    if faces is ():\n",
    "        return None\n",
    "    \n",
    "    # Crop all faces found\n",
    "    for (x,y,w,h) in faces:\n",
    "        cropped_face = img[y:y+h+10, x:x+w+10]\n",
    "\n",
    "    return cropped_face\n",
    "\n",
    "# Initialize Webcam\n",
    "user_id = input('ENTER USER-ID : ')\n",
    "cap = cv2.VideoCapture(0)\n",
    "count = 0\n",
    "\n",
    "# Collect 100 samples of your face from webcam input\n",
    "while True:\n",
    "\n",
    "    ret, frame = cap.read()\n",
    "    if face_extractor(frame) is not None:\n",
    "        count += 1\n",
    "        face = cv2.resize(face_extractor(frame), (200, 200))\n",
    "#         face = cv2.cvtColor(face, cv2.COLOR_BGR2GRAY)\n",
    "\n",
    "        # Save file in specified directory with unique name\n",
    "        file_name_path = './faces/User_' + str(user_id) + \"_\" + str(count) + '.jpg'\n",
    "        cv2.imwrite(file_name_path, face)\n",
    "\n",
    "        # Put count on images and display live count\n",
    "        face1 = cv2.flip(face,1)\n",
    "        cv2.putText(face1, str(count), (50, 50), cv2.FONT_HERSHEY_COMPLEX, 1, (0,255,0), 2)\n",
    "        cv2.imshow('Face Cropper', face1)\n",
    "        \n",
    "    else:\n",
    "        print(\"Face not found\")\n",
    "        pass\n",
    "\n",
    "    if cv2.waitKey(1) == 13 or count == 100: #13 is the Enter Key\n",
    "        break\n",
    "        \n",
    "cap.release()\n",
    "cv2.destroyAllWindows()      \n",
    "print(\"Collecting Samples Complete\")"
   ]
  },
  {
   "cell_type": "code",
   "execution_count": null,
   "metadata": {},
   "outputs": [],
   "source": [
    "cap.release()"
   ]
  },
  {
   "cell_type": "markdown",
   "metadata": {},
   "source": [
    "## Step 2 - Train Model\n"
   ]
  },
  {
   "cell_type": "code",
   "execution_count": null,
   "metadata": {},
   "outputs": [],
   "source": [
    "import cv2\n",
    "import numpy as np\n",
    "import os\n",
    "from os import listdir\n",
    "from os.path import isfile, join\n",
    "\n",
    "# Get the training data we previously made\n",
    "data_path = './faces/'\n",
    "onlyfiles = [f for f in listdir(data_path) if isfile(join(data_path, f))]\n",
    "\n",
    "# Create arrays for training data and labels\n",
    "Training_Data, Labels = [], []\n",
    "\n",
    "# Open training images in our datapath\n",
    "# Create a numpy array for training data\n",
    "for i, files in enumerate(onlyfiles):\n",
    "    image_path = data_path + onlyfiles[i]\n",
    "    images = cv2.imread(image_path, cv2.IMREAD_GRAYSCALE)\n",
    "    Training_Data.append(np.asarray(images, dtype=np.uint8))\n",
    "    user_id=int(os.path.split(image_path)[-1].split(\"_\")[1])\n",
    "    Labels.append(user_id)\n",
    "\n",
    "# Create a numpy array for both training data and labels\n",
    "Labels = np.asarray(Labels, dtype=np.int32)\n",
    "\n",
    "# Initialize facial recognizer\n",
    "# model = cv2.face.createLBPHFaceRecognizer()\n",
    "# NOTE: For OpenCV 3.0 use cv2.face.createLBPHFaceRecognizer()\n",
    "# pip install opencv-contrib-python\n",
    "# model = cv2.createLBPHFaceRecognizer()\n",
    "\n",
    "model  = cv2.face_LBPHFaceRecognizer.create()\n",
    "# Let's train our model \n",
    "model.train(np.asarray(Training_Data), np.asarray(Labels))\n",
    "#saving our created model in a file\n",
    "model.save('ModelFiles/model.yml')\n",
    "print(\"Model trained sucessefully\")\n"
   ]
  },
  {
   "cell_type": "markdown",
   "metadata": {},
   "source": [
    "## Step 3 - Run Our Facial Recognition"
   ]
  },
  {
   "cell_type": "code",
   "execution_count": 2,
   "metadata": {},
   "outputs": [
    {
     "name": "stdout",
     "output_type": "stream",
     "text": [
      "\t\t\t Success : Instance Launched\n",
      "\t\t\t Success : Volume Created\n",
      "\t\t\t Success : Volume ATTACHED\n"
     ]
    }
   ],
   "source": [
    "import cv2\n",
    "import numpy as np\n",
    "import os\n",
    "import threading\n",
    "\n",
    "face_classifier = cv2.CascadeClassifier('haarcascade_frontalface_default.xml')\n",
    "\n",
    "user_id=0\n",
    "name = \"\"\n",
    "\n",
    "def face_detector(img, size=0.5):\n",
    "    \n",
    "    # Convert image to grayscale\n",
    "    gray = cv2.cvtColor(img,cv2.COLOR_BGR2GRAY)\n",
    "    faces = face_classifier.detectMultiScale(gray, 1.3, 5)\n",
    "    if faces is ():\n",
    "        return img, []\n",
    "    \n",
    "    for (x,y,w,h) in faces:\n",
    "        cv2.rectangle(img,(x,y),(x+w,y+h),(0,255,255),2)\n",
    "        roi = img[y:y+h, x:x+w]\n",
    "        roi = cv2.resize(roi, (200, 200))\n",
    "    return img, roi\n",
    "\n",
    "\n",
    "# Open Webcam\n",
    "cap = cv2.VideoCapture(0)\n",
    "final = cv2.face_LBPHFaceRecognizer.create();\n",
    "final.read('ModelFiles/model.yml')\n",
    "\n",
    "def show(name,msg):\n",
    "    cap = cv2.VideoCapture(0)\n",
    "    while True:\n",
    "        ret, frame = cap.read()\n",
    "        image, face = face_detector(frame)\n",
    "        image1 = cv2.flip(image,1)\n",
    "        cv2.putText(image1, \"Hey \" +name+ \" \" +msg, (25, 450), cv2.FONT_HERSHEY_COMPLEX, 1, (0,255,0), 2)\n",
    "        cv2.imshow('Face Recognition', image1 )\n",
    "        if cv2.waitKey(1) == 13:\n",
    "            break\n",
    "    cap.release()\n",
    "    cv2.destroyAllWindows()\n",
    "    \n",
    "while True:\n",
    "    \n",
    "    ret, frame = cap.read()\n",
    "    image, face = face_detector(frame)  \n",
    "    image = np.array(image)\n",
    "    face = np.array(face)\n",
    "    \n",
    "    try:\n",
    "        face = cv2.cvtColor(face, cv2.COLOR_BGR2GRAY)\n",
    "        results = final.predict(face)\n",
    "        user_id = results[0]\n",
    "        score = results[1]\n",
    "\n",
    "        if score < 500:\n",
    "            confidence = int( 100 * (1 - (score)/400) )\n",
    "            display_string = str(confidence) + '% Confident it is User'\n",
    "\n",
    "        cv2.putText(image, display_string, (100, 120), cv2.FONT_HERSHEY_COMPLEX, 1, (255,120,150), 2)\n",
    "\n",
    "        if user_id == 1:\n",
    "            name = \"Gagandeep \"\n",
    "            msg = \"Check mail & Whatsapp\"\n",
    "            disp = threading.Thread(target=show, args=(name,msg,))\n",
    "            disp.start()\n",
    "            %run ./email_whats.ipynb\n",
    "            break\n",
    "\n",
    "        elif user_id == 2:\n",
    "            name = \"Virat\"\n",
    "            msg = \"Go, Check AWS\"\n",
    "            disp = threading.Thread(target=show, args=(name,msg,))\n",
    "            disp.start()\n",
    "            a = os.system(\"aws ec2 run-instances  --image-id  ami-0ad704c126371a549  --count 1  --instance-type t2.micro --key-name terraform_key_pair  --subnet-id subnet-a7662aeb   --tag-specifications  ResourceType=instance,Tags=[{Key=Name,Value=ml_launched}]\")\n",
    "            if a == 0:\n",
    "                print(\"\\t\\t\\t Success : Instance Launched\")\n",
    "            b = os.system(\"aws ec2 create-volume --volume-type gp2 --size 5 --availability-zone ap-south-1b  --tag-specifications  ResourceType=volume,Tags=[{Key=Name,Value=ml_vol}]\")\n",
    "            if b == 0:\n",
    "                print(\"\\t\\t\\t Success : Volume Created\")\n",
    "            import subprocess\n",
    "            import time\n",
    "            time.sleep(50)\n",
    "            ins_id = subprocess.getoutput(\"aws ec2 describe-instances --filters Name=tag:Name,Values=ml_launched --query Reservations[*].Instances[*].[InstanceId] --output text\")\n",
    "            vol_id = subprocess.getoutput(\"aws ec2 describe-volumes  --filters Name=tag:Name,Values=ml_vol* --query Volumes[*].[VolumeId] --output text\")\n",
    "            c = os.system(\"aws ec2 attach-volume --instance-id {} --volume-id {} --device /dev/sdf\".format(ins_id,vol_id))\n",
    "            if c == 0:\n",
    "                print(\"\\t\\t\\t Success : Volume ATTACHED\")\n",
    "            break\n",
    "            \n",
    "        else:\n",
    "            name = \"Unknown\"\n",
    "            disp = threading.Thread(target=show, args=(name,msg,))\n",
    "            disp.start()\n",
    "            \n",
    "    except:\n",
    "        cv2.putText(image, \"No Face Found\", (220, 120) , cv2.FONT_HERSHEY_COMPLEX, 1, (0,0,255), 2)\n",
    "        cv2.putText(image, \"looking for face\", (250, 450), cv2.FONT_HERSHEY_COMPLEX, 1, (0,0,255), 2)\n",
    "        cv2.imshow('Face Recognition', image )\n",
    "        pass\n",
    "        \n",
    "    if cv2.waitKey(1) == 13: #13 is the Enter Key\n",
    "        break\n",
    "        \n",
    "cap.release()\n",
    "cv2.destroyAllWindows()     "
   ]
  },
  {
   "cell_type": "markdown",
   "metadata": {},
   "source": [
    "## Thank You Task Successfully Completed"
   ]
  },
  {
   "cell_type": "code",
   "execution_count": 3,
   "metadata": {},
   "outputs": [
    {
     "data": {
      "text/plain": [
       "'i-0e078b27f4a3598fe'"
      ]
     },
     "execution_count": 3,
     "metadata": {},
     "output_type": "execute_result"
    }
   ],
   "source": [
    "ins_id"
   ]
  },
  {
   "cell_type": "code",
   "execution_count": 4,
   "metadata": {},
   "outputs": [
    {
     "data": {
      "text/plain": [
       "'vol-05c1185cec421e97e'"
      ]
     },
     "execution_count": 4,
     "metadata": {},
     "output_type": "execute_result"
    }
   ],
   "source": [
    "vol_id"
   ]
  },
  {
   "cell_type": "code",
   "execution_count": 4,
   "metadata": {},
   "outputs": [],
   "source": []
  },
  {
   "cell_type": "code",
   "execution_count": 3,
   "metadata": {},
   "outputs": [],
   "source": []
  },
  {
   "cell_type": "code",
   "execution_count": null,
   "metadata": {},
   "outputs": [],
   "source": []
  },
  {
   "cell_type": "code",
   "execution_count": null,
   "metadata": {},
   "outputs": [],
   "source": []
  },
  {
   "cell_type": "code",
   "execution_count": null,
   "metadata": {},
   "outputs": [],
   "source": []
  },
  {
   "cell_type": "code",
   "execution_count": null,
   "metadata": {},
   "outputs": [],
   "source": []
  },
  {
   "cell_type": "code",
   "execution_count": null,
   "metadata": {},
   "outputs": [],
   "source": []
  }
 ],
 "metadata": {
  "kernelspec": {
   "display_name": "Python 3",
   "language": "python",
   "name": "python3"
  },
  "language_info": {
   "codemirror_mode": {
    "name": "ipython",
    "version": 3
   },
   "file_extension": ".py",
   "mimetype": "text/x-python",
   "name": "python",
   "nbconvert_exporter": "python",
   "pygments_lexer": "ipython3",
   "version": "3.7.4"
  }
 },
 "nbformat": 4,
 "nbformat_minor": 4
}
